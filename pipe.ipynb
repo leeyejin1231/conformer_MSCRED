{
 "cells": [
  {
   "cell_type": "code",
   "execution_count": 1,
   "metadata": {},
   "outputs": [
    {
     "data": {
      "text/plain": [
       "<torch._C.Generator at 0x13036c1d0>"
      ]
     },
     "execution_count": 1,
     "metadata": {},
     "output_type": "execute_result"
    }
   ],
   "source": [
    "from utils import *\n",
    "from model import ConformerMSCRED\n",
    "import torch\n",
    "from time import time\n",
    "import numpy as np\n",
    "import random\n",
    "import pickle\n",
    "\n",
    "random.seed(42)\n",
    "torch.manual_seed(42)"
   ]
  },
  {
   "cell_type": "code",
   "execution_count": 2,
   "metadata": {},
   "outputs": [],
   "source": [
    "with open('scale_factor.pkl', 'rb') as f:\n",
    "    max_, min_ = pickle.load(f)\n",
    "\n",
    "with open('./columns.pkl', 'rb') as f:\n",
    "    columns = pickle.load(f)"
   ]
  },
  {
   "cell_type": "code",
   "execution_count": 3,
   "metadata": {},
   "outputs": [
    {
     "data": {
      "text/plain": [
       "<All keys matched successfully>"
      ]
     },
     "execution_count": 3,
     "metadata": {},
     "output_type": "execute_result"
    }
   ],
   "source": [
    "device = 'cuda' if torch.cuda.is_available() else 'cpu'\n",
    "model = ConformerMSCRED(device=device).to(device)\n",
    "model.eval()\n",
    "ckpt_path = '../weights/exp5/mscred_weights_epoch_1_val_loss_5.2967.pt'\n",
    "model.load_state_dict(torch.load(ckpt_path, map_location='cpu'))"
   ]
  },
  {
   "cell_type": "code",
   "execution_count": 4,
   "metadata": {},
   "outputs": [],
   "source": [
    "def get_result(model, input_data, max_, min_, columns):\n",
    "    values = []\n",
    "    for input_dict in input_data:\n",
    "        value = [input_dict[key] for key in input_dict if key in columns]\n",
    "        value = list(map(float, value))\n",
    "        values.append(value)\n",
    "    values = np.array(values)\n",
    "\n",
    "    scaled_values, _, _  = MinMaxScaler(values, max_=max_, min_=min_)\n",
    "\n",
    "    X, y = calculate_signature_matrix_dataset(scaled_values, lags=[10, 30, 60], stride=1, num_timesteps=5)\n",
    "    X = X.transpose(0, 4, 1, 2, 3)\n",
    "    y = y.transpose(0, 3, 1, 2)\n",
    "    X = torch.Tensor(X)\n",
    "\n",
    "    pred = model(X).detach().cpu().numpy()\n",
    "\n",
    "    residual_matrix = y - pred\n",
    "    err = np.sum(residual_matrix**2, axis=1)\n",
    "    err = np.sum(err, axis=1)\n",
    "    err = np.sum(err, axis=1) / (pred.shape[1] * pred.shape[2] * pred.shape[3])\n",
    "\n",
    "    return err[0]"
   ]
  },
  {
   "cell_type": "code",
   "execution_count": 5,
   "metadata": {},
   "outputs": [],
   "source": [
    "input_dict = {'message': {'TAG_MIN': '2022-01-03 11:22:12', '배정번호': '102410', '건조 1존 OP': '73.6468', '건조 2존 OP': '29.5274', '건조로 온도 1 Zone': '98.7918', '건조로 온도 2 Zone': '99.2075', '세정기': '68.4386', '소입1존 OP': '76.0262', '소입2존 OP': '61.1634', '소입3존 OP': '51.6915', '소입4존 OP': '71.6093', '소입로 CP 값': '0.450235', '소입로 CP 모니터 값': '1.14536e-10', '소입로 온도 1 Zone': '860.351', '소입로 온도 2 Zone': '859.791', '소입로 온도 3 Zone': '859.991', '소입로 온도 4 Zone': '859.731', '솔트 컨베이어 온도 1 Zone': '294.721', '솔트 컨베이어 온도 2 Zone': '272.599', '솔트조 온도 1 Zone': '328.74', '솔트조 온도 2 Zone': '328.808'}}\n",
    "input_list = [input_dict['message'] for _ in range(64)]"
   ]
  },
  {
   "cell_type": "code",
   "execution_count": 6,
   "metadata": {},
   "outputs": [
    {
     "name": "stderr",
     "output_type": "stream",
     "text": [
      "100%|██████████| 5/5 [00:00<00:00, 719.41it/s]"
     ]
    },
    {
     "name": "stderr",
     "output_type": "stream",
     "text": [
      "\n"
     ]
    },
    {
     "name": "stdout",
     "output_type": "stream",
     "text": [
      "0.22860826661318512\n",
      "Time spent:0.2113\n"
     ]
    }
   ],
   "source": [
    "start = time()\n",
    "mse = get_result(model, input_list, max_, min_, columns)\n",
    "print(mse)\n",
    "end = time()\n",
    "print(f\"Time spent:{end - start:0.4f}\")"
   ]
  }
 ],
 "metadata": {
  "kernelspec": {
   "display_name": "torch-env2",
   "language": "python",
   "name": "python3"
  },
  "language_info": {
   "codemirror_mode": {
    "name": "ipython",
    "version": 3
   },
   "file_extension": ".py",
   "mimetype": "text/x-python",
   "name": "python",
   "nbconvert_exporter": "python",
   "pygments_lexer": "ipython3",
   "version": "3.9.16"
  }
 },
 "nbformat": 4,
 "nbformat_minor": 2
}
